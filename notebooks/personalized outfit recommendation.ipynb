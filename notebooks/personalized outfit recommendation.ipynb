{
  "nbformat": 4,
  "nbformat_minor": 0,
  "metadata": {
    "colab": {
      "provenance": []
    },
    "kernelspec": {
      "name": "python3",
      "display_name": "Python 3"
    },
    "language_info": {
      "name": "python"
    }
  },
  "cells": [
    {
      "cell_type": "code",
      "source": [
        "!pip install torch torchvision opencv-python pillow numpy\n",
        "!pip install psycopg2-binary pgvector\n"
      ],
      "metadata": {
        "colab": {
          "base_uri": "https://localhost:8080/"
        },
        "id": "bs8ah5ohvbOA",
        "outputId": "69de4c97-42ee-4239-ed77-ed3b8850621b"
      },
      "execution_count": 3,
      "outputs": [
        {
          "output_type": "stream",
          "name": "stdout",
          "text": [
            "Requirement already satisfied: torch in /usr/local/lib/python3.12/dist-packages (2.8.0+cu126)\n",
            "Requirement already satisfied: torchvision in /usr/local/lib/python3.12/dist-packages (0.23.0+cu126)\n",
            "Requirement already satisfied: opencv-python in /usr/local/lib/python3.12/dist-packages (4.12.0.88)\n",
            "Requirement already satisfied: pillow in /usr/local/lib/python3.12/dist-packages (11.3.0)\n",
            "Requirement already satisfied: numpy in /usr/local/lib/python3.12/dist-packages (2.0.2)\n",
            "Requirement already satisfied: filelock in /usr/local/lib/python3.12/dist-packages (from torch) (3.19.1)\n",
            "Requirement already satisfied: typing-extensions>=4.10.0 in /usr/local/lib/python3.12/dist-packages (from torch) (4.15.0)\n",
            "Requirement already satisfied: setuptools in /usr/local/lib/python3.12/dist-packages (from torch) (75.2.0)\n",
            "Requirement already satisfied: sympy>=1.13.3 in /usr/local/lib/python3.12/dist-packages (from torch) (1.13.3)\n",
            "Requirement already satisfied: networkx in /usr/local/lib/python3.12/dist-packages (from torch) (3.5)\n",
            "Requirement already satisfied: jinja2 in /usr/local/lib/python3.12/dist-packages (from torch) (3.1.6)\n",
            "Requirement already satisfied: fsspec in /usr/local/lib/python3.12/dist-packages (from torch) (2025.3.0)\n",
            "Requirement already satisfied: nvidia-cuda-nvrtc-cu12==12.6.77 in /usr/local/lib/python3.12/dist-packages (from torch) (12.6.77)\n",
            "Requirement already satisfied: nvidia-cuda-runtime-cu12==12.6.77 in /usr/local/lib/python3.12/dist-packages (from torch) (12.6.77)\n",
            "Requirement already satisfied: nvidia-cuda-cupti-cu12==12.6.80 in /usr/local/lib/python3.12/dist-packages (from torch) (12.6.80)\n",
            "Requirement already satisfied: nvidia-cudnn-cu12==9.10.2.21 in /usr/local/lib/python3.12/dist-packages (from torch) (9.10.2.21)\n",
            "Requirement already satisfied: nvidia-cublas-cu12==12.6.4.1 in /usr/local/lib/python3.12/dist-packages (from torch) (12.6.4.1)\n",
            "Requirement already satisfied: nvidia-cufft-cu12==11.3.0.4 in /usr/local/lib/python3.12/dist-packages (from torch) (11.3.0.4)\n",
            "Requirement already satisfied: nvidia-curand-cu12==10.3.7.77 in /usr/local/lib/python3.12/dist-packages (from torch) (10.3.7.77)\n",
            "Requirement already satisfied: nvidia-cusolver-cu12==11.7.1.2 in /usr/local/lib/python3.12/dist-packages (from torch) (11.7.1.2)\n",
            "Requirement already satisfied: nvidia-cusparse-cu12==12.5.4.2 in /usr/local/lib/python3.12/dist-packages (from torch) (12.5.4.2)\n",
            "Requirement already satisfied: nvidia-cusparselt-cu12==0.7.1 in /usr/local/lib/python3.12/dist-packages (from torch) (0.7.1)\n",
            "Requirement already satisfied: nvidia-nccl-cu12==2.27.3 in /usr/local/lib/python3.12/dist-packages (from torch) (2.27.3)\n",
            "Requirement already satisfied: nvidia-nvtx-cu12==12.6.77 in /usr/local/lib/python3.12/dist-packages (from torch) (12.6.77)\n",
            "Requirement already satisfied: nvidia-nvjitlink-cu12==12.6.85 in /usr/local/lib/python3.12/dist-packages (from torch) (12.6.85)\n",
            "Requirement already satisfied: nvidia-cufile-cu12==1.11.1.6 in /usr/local/lib/python3.12/dist-packages (from torch) (1.11.1.6)\n",
            "Requirement already satisfied: triton==3.4.0 in /usr/local/lib/python3.12/dist-packages (from torch) (3.4.0)\n",
            "Requirement already satisfied: mpmath<1.4,>=1.1.0 in /usr/local/lib/python3.12/dist-packages (from sympy>=1.13.3->torch) (1.3.0)\n",
            "Requirement already satisfied: MarkupSafe>=2.0 in /usr/local/lib/python3.12/dist-packages (from jinja2->torch) (3.0.2)\n",
            "Requirement already satisfied: psycopg2-binary in /usr/local/lib/python3.12/dist-packages (2.9.10)\n",
            "Requirement already satisfied: pgvector in /usr/local/lib/python3.12/dist-packages (0.4.1)\n",
            "Requirement already satisfied: numpy in /usr/local/lib/python3.12/dist-packages (from pgvector) (2.0.2)\n"
          ]
        }
      ]
    },
    {
      "cell_type": "code",
      "source": [
        "# Run as a code cell\n",
        "!pip install -q opencv-python-headless pillow tqdm scikit-learn pandas\n"
      ],
      "metadata": {
        "id": "YXLOMrgYzjx0"
      },
      "execution_count": 4,
      "outputs": []
    },
    {
      "cell_type": "code",
      "source": [
        "# Import libraries\n",
        "import os, zipfile\n",
        "import numpy as np\n",
        "from PIL import Image\n",
        "import cv2\n",
        "import torch\n",
        "from torchvision import models, transforms\n",
        "from tqdm import tqdm\n",
        "\n",
        "# Set device\n",
        "device = 'cuda' if torch.cuda.is_available() else 'cpu'\n",
        "print(\"Using device:\", device)\n",
        "\n",
        "# Upload your dataset zip\n",
        "from google.colab import files\n",
        "uploaded = files.upload()  # select DeepFashion2-master.zip\n",
        "\n",
        "# Unzip dataset\n",
        "zip_path = next(iter(uploaded.keys()))\n",
        "with zipfile.ZipFile(zip_path, 'r') as zip_ref:\n",
        "    zip_ref.extractall('./DeepFashion2')\n",
        "dataset_dir = './DeepFashion2'\n",
        "print(\"Dataset extracted to:\", dataset_dir)"
      ],
      "metadata": {
        "colab": {
          "base_uri": "https://localhost:8080/",
          "height": 108
        },
        "id": "x_oUxdMJzmyQ",
        "outputId": "5c49f667-239c-4cda-fd4d-e5f6b0030dbb"
      },
      "execution_count": null,
      "outputs": [
        {
          "output_type": "stream",
          "name": "stdout",
          "text": [
            "Using device: cpu\n"
          ]
        },
        {
          "output_type": "display_data",
          "data": {
            "text/plain": [
              "<IPython.core.display.HTML object>"
            ],
            "text/html": [
              "\n",
              "     <input type=\"file\" id=\"files-43f20407-45c8-4ec1-91c7-69122bfd3b3f\" name=\"files[]\" multiple disabled\n",
              "        style=\"border:none\" />\n",
              "     <output id=\"result-43f20407-45c8-4ec1-91c7-69122bfd3b3f\">\n",
              "      Upload widget is only available when the cell has been executed in the\n",
              "      current browser session. Please rerun this cell to enable.\n",
              "      </output>\n",
              "      <script>// Copyright 2017 Google LLC\n",
              "//\n",
              "// Licensed under the Apache License, Version 2.0 (the \"License\");\n",
              "// you may not use this file except in compliance with the License.\n",
              "// You may obtain a copy of the License at\n",
              "//\n",
              "//      http://www.apache.org/licenses/LICENSE-2.0\n",
              "//\n",
              "// Unless required by applicable law or agreed to in writing, software\n",
              "// distributed under the License is distributed on an \"AS IS\" BASIS,\n",
              "// WITHOUT WARRANTIES OR CONDITIONS OF ANY KIND, either express or implied.\n",
              "// See the License for the specific language governing permissions and\n",
              "// limitations under the License.\n",
              "\n",
              "/**\n",
              " * @fileoverview Helpers for google.colab Python module.\n",
              " */\n",
              "(function(scope) {\n",
              "function span(text, styleAttributes = {}) {\n",
              "  const element = document.createElement('span');\n",
              "  element.textContent = text;\n",
              "  for (const key of Object.keys(styleAttributes)) {\n",
              "    element.style[key] = styleAttributes[key];\n",
              "  }\n",
              "  return element;\n",
              "}\n",
              "\n",
              "// Max number of bytes which will be uploaded at a time.\n",
              "const MAX_PAYLOAD_SIZE = 100 * 1024;\n",
              "\n",
              "function _uploadFiles(inputId, outputId) {\n",
              "  const steps = uploadFilesStep(inputId, outputId);\n",
              "  const outputElement = document.getElementById(outputId);\n",
              "  // Cache steps on the outputElement to make it available for the next call\n",
              "  // to uploadFilesContinue from Python.\n",
              "  outputElement.steps = steps;\n",
              "\n",
              "  return _uploadFilesContinue(outputId);\n",
              "}\n",
              "\n",
              "// This is roughly an async generator (not supported in the browser yet),\n",
              "// where there are multiple asynchronous steps and the Python side is going\n",
              "// to poll for completion of each step.\n",
              "// This uses a Promise to block the python side on completion of each step,\n",
              "// then passes the result of the previous step as the input to the next step.\n",
              "function _uploadFilesContinue(outputId) {\n",
              "  const outputElement = document.getElementById(outputId);\n",
              "  const steps = outputElement.steps;\n",
              "\n",
              "  const next = steps.next(outputElement.lastPromiseValue);\n",
              "  return Promise.resolve(next.value.promise).then((value) => {\n",
              "    // Cache the last promise value to make it available to the next\n",
              "    // step of the generator.\n",
              "    outputElement.lastPromiseValue = value;\n",
              "    return next.value.response;\n",
              "  });\n",
              "}\n",
              "\n",
              "/**\n",
              " * Generator function which is called between each async step of the upload\n",
              " * process.\n",
              " * @param {string} inputId Element ID of the input file picker element.\n",
              " * @param {string} outputId Element ID of the output display.\n",
              " * @return {!Iterable<!Object>} Iterable of next steps.\n",
              " */\n",
              "function* uploadFilesStep(inputId, outputId) {\n",
              "  const inputElement = document.getElementById(inputId);\n",
              "  inputElement.disabled = false;\n",
              "\n",
              "  const outputElement = document.getElementById(outputId);\n",
              "  outputElement.innerHTML = '';\n",
              "\n",
              "  const pickedPromise = new Promise((resolve) => {\n",
              "    inputElement.addEventListener('change', (e) => {\n",
              "      resolve(e.target.files);\n",
              "    });\n",
              "  });\n",
              "\n",
              "  const cancel = document.createElement('button');\n",
              "  inputElement.parentElement.appendChild(cancel);\n",
              "  cancel.textContent = 'Cancel upload';\n",
              "  const cancelPromise = new Promise((resolve) => {\n",
              "    cancel.onclick = () => {\n",
              "      resolve(null);\n",
              "    };\n",
              "  });\n",
              "\n",
              "  // Wait for the user to pick the files.\n",
              "  const files = yield {\n",
              "    promise: Promise.race([pickedPromise, cancelPromise]),\n",
              "    response: {\n",
              "      action: 'starting',\n",
              "    }\n",
              "  };\n",
              "\n",
              "  cancel.remove();\n",
              "\n",
              "  // Disable the input element since further picks are not allowed.\n",
              "  inputElement.disabled = true;\n",
              "\n",
              "  if (!files) {\n",
              "    return {\n",
              "      response: {\n",
              "        action: 'complete',\n",
              "      }\n",
              "    };\n",
              "  }\n",
              "\n",
              "  for (const file of files) {\n",
              "    const li = document.createElement('li');\n",
              "    li.append(span(file.name, {fontWeight: 'bold'}));\n",
              "    li.append(span(\n",
              "        `(${file.type || 'n/a'}) - ${file.size} bytes, ` +\n",
              "        `last modified: ${\n",
              "            file.lastModifiedDate ? file.lastModifiedDate.toLocaleDateString() :\n",
              "                                    'n/a'} - `));\n",
              "    const percent = span('0% done');\n",
              "    li.appendChild(percent);\n",
              "\n",
              "    outputElement.appendChild(li);\n",
              "\n",
              "    const fileDataPromise = new Promise((resolve) => {\n",
              "      const reader = new FileReader();\n",
              "      reader.onload = (e) => {\n",
              "        resolve(e.target.result);\n",
              "      };\n",
              "      reader.readAsArrayBuffer(file);\n",
              "    });\n",
              "    // Wait for the data to be ready.\n",
              "    let fileData = yield {\n",
              "      promise: fileDataPromise,\n",
              "      response: {\n",
              "        action: 'continue',\n",
              "      }\n",
              "    };\n",
              "\n",
              "    // Use a chunked sending to avoid message size limits. See b/62115660.\n",
              "    let position = 0;\n",
              "    do {\n",
              "      const length = Math.min(fileData.byteLength - position, MAX_PAYLOAD_SIZE);\n",
              "      const chunk = new Uint8Array(fileData, position, length);\n",
              "      position += length;\n",
              "\n",
              "      const base64 = btoa(String.fromCharCode.apply(null, chunk));\n",
              "      yield {\n",
              "        response: {\n",
              "          action: 'append',\n",
              "          file: file.name,\n",
              "          data: base64,\n",
              "        },\n",
              "      };\n",
              "\n",
              "      let percentDone = fileData.byteLength === 0 ?\n",
              "          100 :\n",
              "          Math.round((position / fileData.byteLength) * 100);\n",
              "      percent.textContent = `${percentDone}% done`;\n",
              "\n",
              "    } while (position < fileData.byteLength);\n",
              "  }\n",
              "\n",
              "  // All done.\n",
              "  yield {\n",
              "    response: {\n",
              "      action: 'complete',\n",
              "    }\n",
              "  };\n",
              "}\n",
              "\n",
              "scope.google = scope.google || {};\n",
              "scope.google.colab = scope.google.colab || {};\n",
              "scope.google.colab._files = {\n",
              "  _uploadFiles,\n",
              "  _uploadFilesContinue,\n",
              "};\n",
              "})(self);\n",
              "</script> "
            ]
          },
          "metadata": {}
        },
        {
          "output_type": "stream",
          "name": "stdout",
          "text": [
            "Saving DeepFashion2-master.zip to DeepFashion2-master (1).zip\n",
            "Dataset extracted to: ./DeepFashion2\n"
          ]
        }
      ]
    },
    {
      "cell_type": "code",
      "source": [
        "# Load ResNet50 backbone (remove fc)\n",
        "model = models.resnet50(pretrained=True)\n",
        "model.fc = torch.nn.Identity()\n",
        "model.to(device).eval()\n",
        "\n",
        "# Preprocessing pipeline\n",
        "preprocess = transforms.Compose([\n",
        "    transforms.Resize(256),\n",
        "    transforms.CenterCrop(224),\n",
        "    transforms.ToTensor(),\n",
        "    transforms.Normalize([0.485,0.456,0.406],[0.229,0.224,0.225])\n",
        "])\n",
        "\n",
        "# Function: compute visual embedding\n",
        "def image_to_embedding(path_or_pil):\n",
        "    if isinstance(path_or_pil, str):\n",
        "        img = Image.open(path_or_pil).convert(\"RGB\")\n",
        "    else:\n",
        "        img = path_or_pil.convert(\"RGB\")\n",
        "    x = preprocess(img).unsqueeze(0).to(device)\n",
        "    with torch.no_grad():\n",
        "        emb = model(x).cpu().numpy().reshape(-1).astype(np.float32)\n",
        "    emb /= (np.linalg.norm(emb) + 1e-9)\n",
        "    return emb  # 2048-d\n"
      ],
      "metadata": {
        "colab": {
          "base_uri": "https://localhost:8080/"
        },
        "id": "yT9dVCDizo0X",
        "outputId": "0419f8b6-e676-4bd5-891f-81cbfe7b730a"
      },
      "execution_count": null,
      "outputs": [
        {
          "output_type": "stream",
          "name": "stderr",
          "text": [
            "/usr/local/lib/python3.12/dist-packages/torchvision/models/_utils.py:208: UserWarning: The parameter 'pretrained' is deprecated since 0.13 and may be removed in the future, please use 'weights' instead.\n",
            "  warnings.warn(\n",
            "/usr/local/lib/python3.12/dist-packages/torchvision/models/_utils.py:223: UserWarning: Arguments other than a weight enum or `None` for 'weights' are deprecated since 0.13 and may be removed in the future. The current behavior is equivalent to passing `weights=ResNet50_Weights.IMAGENET1K_V1`. You can also use `weights=ResNet50_Weights.DEFAULT` to get the most up-to-date weights.\n",
            "  warnings.warn(msg)\n"
          ]
        },
        {
          "output_type": "stream",
          "name": "stdout",
          "text": [
            "Downloading: \"https://download.pytorch.org/models/resnet50-0676ba61.pth\" to /root/.cache/torch/hub/checkpoints/resnet50-0676ba61.pth\n"
          ]
        },
        {
          "output_type": "stream",
          "name": "stderr",
          "text": [
            "100%|██████████| 97.8M/97.8M [00:00<00:00, 113MB/s]\n"
          ]
        }
      ]
    },
    {
      "cell_type": "code",
      "source": [
        "def color_histogram_hsv_bgr(bgr_img, bins=(8,8,8)):\n",
        "    hsv = cv2.cvtColor(bgr_img, cv2.COLOR_BGR2HSV)\n",
        "    hist = cv2.calcHist([hsv],[0,1,2],None,bins,[0,180,0,256,0,256])\n",
        "    hist = hist.flatten().astype(np.float32)\n",
        "    hist /= (np.linalg.norm(hist)+1e-9)\n",
        "    return hist  # 512-d if bins=(8,8,8)\n"
      ],
      "metadata": {
        "id": "9YXdav9AzqhO"
      },
      "execution_count": null,
      "outputs": []
    },
    {
      "cell_type": "code",
      "source": [
        "# Example one-hot encoders (adjust as per dataset)\n",
        "categories = ['top','bottom','dress','outer','shoes','bag','accessory','suit','skirt','jumpsuit']\n",
        "colors = ['red','green','blue','yellow','black','white','pink','brown','purple','grey']\n",
        "\n",
        "cat_to_idx = {c:i for i,c in enumerate(categories)}\n",
        "color_to_idx = {c:i for i,c in enumerate(colors)}\n",
        "\n",
        "def encode_metadata(category, color):\n",
        "    cat_vec = np.zeros(len(categories), dtype=np.float32)\n",
        "    col_vec = np.zeros(len(colors), dtype=np.float32)\n",
        "    if category in cat_to_idx:\n",
        "        cat_vec[cat_to_idx[category]] = 1.0\n",
        "    if color in color_to_idx:\n",
        "        col_vec[color_to_idx[color]] = 1.0\n",
        "    return np.concatenate([cat_vec, col_vec])  # 20-d metadata vector\n"
      ],
      "metadata": {
        "id": "YvycUnQrzsSK"
      },
      "execution_count": null,
      "outputs": []
    },
    {
      "cell_type": "code",
      "source": [
        "# Walk dataset and process images\n",
        "all_vectors = []\n",
        "all_filenames = []\n",
        "\n",
        "# Adjust path according to your dataset structure\n",
        "for root, dirs, files in tqdm(os.walk(dataset_dir)):\n",
        "    for file in files:\n",
        "        if file.lower().endswith(('.jpg','.png')):\n",
        "            path = os.path.join(root, file)\n",
        "\n",
        "            # Visual embedding\n",
        "            try:\n",
        "                pil_img = Image.open(path).convert(\"RGB\")\n",
        "            except:\n",
        "                continue\n",
        "            visual_emb = image_to_embedding(pil_img)\n",
        "\n",
        "            # Color histogram\n",
        "            bgr_img = cv2.cvtColor(np.array(pil_img), cv2.COLOR_RGB2BGR)\n",
        "            color_hist = color_histogram_hsv_bgr(bgr_img)\n",
        "\n",
        "            # Metadata vector\n",
        "            # Example: folder names as category/color\n",
        "            parts = path.split(os.sep)\n",
        "            # Adjust indices according to your folder depth\n",
        "            category = parts[-3] if len(parts)>=3 else 'top'\n",
        "            color = parts[-2] if len(parts)>=2 else 'red'\n",
        "            metadata_vec = encode_metadata(category, color)\n",
        "\n",
        "            # Combine\n",
        "            final_vec = np.concatenate([visual_emb, color_hist, metadata_vec])\n",
        "            final_vec /= (np.linalg.norm(final_vec)+1e-9)\n",
        "\n",
        "            all_vectors.append(final_vec)\n",
        "            all_filenames.append(path)\n",
        "\n",
        "print(\"Processed\", len(all_vectors), \"images\")\n",
        "all_vectors = np.stack(all_vectors)\n",
        "print(\"Feature matrix shape:\", all_vectors.shape)  # (N_images, 2048+512+20)\n"
      ],
      "metadata": {
        "colab": {
          "base_uri": "https://localhost:8080/"
        },
        "id": "J3y9cHj7zuD9",
        "outputId": "b6071dd0-63a7-47cf-d337-68a2de685ef1"
      },
      "execution_count": null,
      "outputs": [
        {
          "output_type": "stream",
          "name": "stderr",
          "text": [
            "10it [00:07,  1.25it/s]"
          ]
        },
        {
          "output_type": "stream",
          "name": "stdout",
          "text": [
            "Processed 8 images\n",
            "Feature matrix shape: (8, 2580)\n"
          ]
        },
        {
          "output_type": "stream",
          "name": "stderr",
          "text": [
            "\n"
          ]
        }
      ]
    },
    {
      "cell_type": "markdown",
      "source": [
        "Metadata Encoding (category, occasion, colors)\n"
      ],
      "metadata": {
        "id": "Irtn8KfOzw3A"
      }
    },
    {
      "cell_type": "code",
      "source": [
        "# Sizes, occasions, colors\n",
        "sizes = ['XS','S','M','L','XL']\n",
        "occasions = ['casual','formal','party','sports','beach']\n",
        "colors = ['red','green','blue','yellow','black','white','pink','brown','purple','grey']\n",
        "\n",
        "size_to_idx = {s:i for i,s in enumerate(sizes)}\n",
        "occ_to_idx = {o:i for i,o in enumerate(occasions)}\n",
        "color_to_idx = {c:i for i,c in enumerate(colors)}\n",
        "\n",
        "def encode_user_preferences(size=None, occasion=None, preferred_colors=[]):\n",
        "    \"\"\"\n",
        "    size: str\n",
        "    occasion: str\n",
        "    preferred_colors: list of str\n",
        "    Returns normalized vector of size (len(sizes)+len(occasions)+len(colors))\n",
        "    \"\"\"\n",
        "    size_vec = np.zeros(len(sizes), dtype=np.float32)\n",
        "    occ_vec = np.zeros(len(occasions), dtype=np.float32)\n",
        "    color_vec = np.zeros(len(colors), dtype=np.float32)\n",
        "\n",
        "    if size in size_to_idx:\n",
        "        size_vec[size_to_idx[size]] = 1.0\n",
        "    if occasion in occ_to_idx:\n",
        "        occ_vec[occ_to_idx[occasion]] = 1.0\n",
        "    for c in preferred_colors:\n",
        "        if c in color_to_idx:\n",
        "            color_vec[color_to_idx[c]] = 1.0\n",
        "\n",
        "    user_vec = np.concatenate([size_vec, occ_vec, color_vec])\n",
        "    user_vec /= (np.linalg.norm(user_vec)+1e-9)\n",
        "    return user_vec  # e.g., 5+5+10=20-d vector\n"
      ],
      "metadata": {
        "id": "I2VyQ5Lez161"
      },
      "execution_count": null,
      "outputs": []
    },
    {
      "cell_type": "code",
      "source": [
        "# Example user\n",
        "size = 'M'\n",
        "occasion = 'party'\n",
        "preferred_colors = ['red','black','blue']\n",
        "\n",
        "user_vec = encode_user_preferences(size=size, occasion=occasion, preferred_colors=preferred_colors)\n",
        "print(\"User vector shape:\", user_vec.shape)\n",
        "print(user_vec)\n",
        "print(\"L2 norm:\", np.linalg.norm(user_vec))\n"
      ],
      "metadata": {
        "colab": {
          "base_uri": "https://localhost:8080/"
        },
        "id": "XQTS8d3iz-hU",
        "outputId": "bab0ac67-541f-4093-d958-ede6981d94ac"
      },
      "execution_count": null,
      "outputs": [
        {
          "output_type": "stream",
          "name": "stdout",
          "text": [
            "User vector shape: (20,)\n",
            "[0.        0.        0.4472136 0.        0.        0.        0.\n",
            " 0.4472136 0.        0.        0.4472136 0.        0.4472136 0.\n",
            " 0.4472136 0.        0.        0.        0.        0.       ]\n",
            "L2 norm: 0.99999994\n"
          ]
        }
      ]
    },
    {
      "cell_type": "code",
      "source": [
        "def build_hybrid_user_vector(user_pref_vec, liked_item_vecs, alpha=0.5):\n",
        "    \"\"\"\n",
        "    Combine explicit preferences with liked item embeddings\n",
        "    alpha: weight of explicit preferences\n",
        "    liked_item_vecs: np.array of shape (num_items, item_vec_dim)\n",
        "    \"\"\"\n",
        "    # Calculate the expected dimension of the item vectors\n",
        "    item_vec_dim = liked_item_vecs.shape[1] if liked_item_vecs is not None and len(liked_item_vecs) > 0 else len(user_pref_vec)\n",
        "\n",
        "    # Pad user_pref_vec with zeros to match the dimension of item vectors\n",
        "    padded_user_pref_vec = np.zeros(item_vec_dim, dtype=np.float32)\n",
        "    # Assuming the metadata is the last part of the item vector\n",
        "    padded_user_pref_vec[-len(user_pref_vec):] = user_pref_vec\n",
        "\n",
        "    if liked_item_vecs is not None and len(liked_item_vecs) > 0:\n",
        "        mean_liked = liked_item_vecs.mean(axis=0)\n",
        "        # Ensure dimensions match before adding\n",
        "        if padded_user_pref_vec.shape[0] != mean_liked.shape[0]:\n",
        "            raise ValueError(\"Dimension mismatch between padded user preferences and mean liked items.\")\n",
        "        hybrid = alpha * padded_user_pref_vec + (1 - alpha) * mean_liked\n",
        "    else:\n",
        "        hybrid = padded_user_pref_vec\n",
        "\n",
        "    hybrid /= (np.linalg.norm(hybrid) + 1e-9)\n",
        "    return hybrid"
      ],
      "metadata": {
        "id": "sZQkOybM0ATW"
      },
      "execution_count": null,
      "outputs": []
    },
    {
      "cell_type": "markdown",
      "source": [
        "Content-based Recommender (Cosine Similarity / FAISS)\n"
      ],
      "metadata": {
        "id": "GIalZWd90DZC"
      }
    },
    {
      "cell_type": "code",
      "source": [
        "from sklearn.metrics.pairwise import cosine_similarity\n",
        "import numpy as np\n",
        "\n",
        "def recommend_content(user_vec, item_vectors, filenames, top_k=10,\n",
        "                      user_size=None, user_occasion=None, item_metadata=None):\n",
        "    \"\"\"\n",
        "    user_vec: np.array, hybrid user vector\n",
        "    item_vectors: np.array, all item feature vectors\n",
        "    filenames: list of corresponding image paths\n",
        "    top_k: number of recommendations\n",
        "    user_size / user_occasion: optional filters\n",
        "    item_metadata: dict {filename: {'size':..., 'occasion':...}}\n",
        "    \"\"\"\n",
        "    # Compute cosine similarity\n",
        "    sims = cosine_similarity(user_vec.reshape(1,-1), item_vectors)[0]\n",
        "\n",
        "    # Sort indices by similarity\n",
        "    idx_sorted = sims.argsort()[::-1]\n",
        "\n",
        "    # Apply business rules overlay\n",
        "    recommendations = []\n",
        "    for i in idx_sorted:\n",
        "        fname = filenames[i]\n",
        "        if item_metadata:\n",
        "            meta = item_metadata.get(fname, {})\n",
        "            if user_size and meta.get('size') != user_size:\n",
        "                continue\n",
        "            if user_occasion and meta.get('occasion') != user_occasion:\n",
        "                continue\n",
        "        recommendations.append((fname, sims[i]))\n",
        "        if len(recommendations) >= top_k:\n",
        "            break\n",
        "\n",
        "    return recommendations\n"
      ],
      "metadata": {
        "id": "m-r5tKGc0EB4"
      },
      "execution_count": null,
      "outputs": []
    },
    {
      "cell_type": "markdown",
      "source": [
        "Prepare item metadata for filtering\n"
      ],
      "metadata": {
        "id": "haSaHeUZ0IZR"
      }
    },
    {
      "cell_type": "code",
      "source": [
        "# Example: for testing, create dummy metadata\n",
        "item_metadata = {}\n",
        "for f in all_filenames:\n",
        "    # randomly assign size & occasion for testing\n",
        "    item_metadata[f] = {\n",
        "        'size': np.random.choice(['XS','S','M','L','XL']),\n",
        "        'occasion': np.random.choice(['casual','formal','party','sports','beach'])\n",
        "    }\n"
      ],
      "metadata": {
        "id": "ekyUoTvy0I5J"
      },
      "execution_count": null,
      "outputs": []
    },
    {
      "cell_type": "markdown",
      "source": [
        "Test content-based recommendation"
      ],
      "metadata": {
        "id": "FmaJWPgq0K2P"
      }
    },
    {
      "cell_type": "code",
      "source": [
        "# Example user\n",
        "size = 'M'\n",
        "occasion = 'party'\n",
        "preferred_colors = ['red','black','blue']\n",
        "user_pref_vec = encode_user_preferences(size, occasion, preferred_colors)\n",
        "\n",
        "# Suppose the user liked first 3 items\n",
        "liked_item_vecs = all_vectors[:3]\n",
        "hybrid_vec = build_hybrid_user_vector(user_pref_vec, liked_item_vecs, alpha=0.6)\n",
        "\n",
        "# Get top 5 recommendations\n",
        "recs = recommend_content(hybrid_vec, all_vectors, all_filenames, top_k=5,\n",
        "                         user_size=size, user_occasion=occasion,\n",
        "                         item_metadata=item_metadata)\n",
        "\n",
        "print(\"Top-5 content-based recommendations:\")\n",
        "for f, score in recs:\n",
        "    print(f, \"| similarity:\", score)\n"
      ],
      "metadata": {
        "colab": {
          "base_uri": "https://localhost:8080/"
        },
        "id": "iLsU2QV-0Niq",
        "outputId": "53668849-b7b7-4da0-e5ab-c03b7b81bf33"
      },
      "execution_count": null,
      "outputs": [
        {
          "output_type": "stream",
          "name": "stdout",
          "text": [
            "Top-5 content-based recommendations:\n",
            "./DeepFashion2/DeepFashion2-master/images/annotation.jpg | similarity: 0.4752463\n"
          ]
        }
      ]
    },
    {
      "cell_type": "code",
      "source": [
        "from scipy.sparse import csr_matrix\n",
        "\n",
        "# Example dummy data: user_id, item_id, interaction_value\n",
        "data = [1, 1, 1, 1, 1, 1, 1, 1, 1, 1]\n",
        "row_indices = [0, 0, 1, 1, 2, 2, 3, 3, 4, 4]  # User IDs (0-indexed)\n",
        "col_indices = [0, 1, 0, 2, 1, 3, 2, 4, 3, 4]  # Item IDs (0-indexed)\n",
        "num_users = 5\n",
        "num_items = 5\n",
        "\n",
        "# Create CSR sparse matrix\n",
        "interaction_matrix = csr_matrix((data, (row_indices, col_indices)), shape=(num_users, num_items))\n",
        "\n",
        "print(\"Placeholder interaction_matrix created (sparse format):\")\n",
        "print(interaction_matrix)\n",
        "\n",
        "# Optional: view as dense array for clarity\n",
        "print(\"\\nDense format:\")\n",
        "print(interaction_matrix.toarray())\n"
      ],
      "metadata": {
        "colab": {
          "base_uri": "https://localhost:8080/"
        },
        "id": "gO4IctKX0RXx",
        "outputId": "197d38d4-5939-438d-dd23-bc42631254cd"
      },
      "execution_count": null,
      "outputs": [
        {
          "output_type": "stream",
          "name": "stdout",
          "text": [
            "Placeholder interaction_matrix created (sparse format):\n",
            "<Compressed Sparse Row sparse matrix of dtype 'int64'\n",
            "\twith 10 stored elements and shape (5, 5)>\n",
            "  Coords\tValues\n",
            "  (0, 0)\t1\n",
            "  (0, 1)\t1\n",
            "  (1, 0)\t1\n",
            "  (1, 2)\t1\n",
            "  (2, 1)\t1\n",
            "  (2, 3)\t1\n",
            "  (3, 2)\t1\n",
            "  (3, 4)\t1\n",
            "  (4, 3)\t1\n",
            "  (4, 4)\t1\n",
            "\n",
            "Dense format:\n",
            "[[1 1 0 0 0]\n",
            " [1 0 1 0 0]\n",
            " [0 1 0 1 0]\n",
            " [0 0 1 0 1]\n",
            " [0 0 0 1 1]]\n"
          ]
        }
      ]
    },
    {
      "cell_type": "markdown",
      "source": [
        "Train SVD on interaction matrix"
      ],
      "metadata": {
        "id": "DsmuXnUd0WBi"
      }
    },
    {
      "cell_type": "code",
      "source": [
        "from sklearn.decomposition import TruncatedSVD\n",
        "\n",
        "# Convert to dense or keep as sparse (TruncatedSVD works with sparse CSR)\n",
        "interaction_csr = interaction_matrix  # already csr\n",
        "\n",
        "n_factors = 3  # number of latent factors\n",
        "svd = TruncatedSVD(n_components=n_factors, random_state=42)\n",
        "svd.fit(interaction_csr)\n",
        "\n",
        "# Predicted user-item scores\n",
        "predicted_scores = svd.transform(interaction_csr) @ svd.components_\n",
        "\n",
        "print(\"Predicted scores shape:\", predicted_scores.shape)\n"
      ],
      "metadata": {
        "colab": {
          "base_uri": "https://localhost:8080/"
        },
        "id": "MFLowL720TcS",
        "outputId": "08efd3ec-a73c-4253-f745-6f951086309e"
      },
      "execution_count": null,
      "outputs": [
        {
          "output_type": "stream",
          "name": "stdout",
          "text": [
            "Predicted scores shape: (5, 5)\n"
          ]
        }
      ]
    },
    {
      "cell_type": "markdown",
      "source": [
        "Recommend top-K items for a user"
      ],
      "metadata": {
        "id": "yEUC5nry0Zt_"
      }
    },
    {
      "cell_type": "code",
      "source": [
        "import numpy as np\n",
        "\n",
        "def recommend_svd(user_id, predicted_scores, filenames, top_k=3):\n",
        "    user_scores = predicted_scores[user_id]\n",
        "    top_items = np.argsort(-user_scores)[:top_k]  # descending order\n",
        "    recommended_files = [filenames[i] for i in top_items]\n",
        "    return recommended_files, user_scores[top_items]\n",
        "\n",
        "# Example: user 0\n",
        "all_filenames = [f\"item_{i}\" for i in range(num_items)]  # dummy filenames\n",
        "top_items, top_scores = recommend_svd(user_id=0, predicted_scores=predicted_scores, filenames=all_filenames, top_k=3)\n",
        "\n",
        "print(\"Top-3 CF recommendations for user 0:\")\n",
        "for f, s in zip(top_items, top_scores):\n",
        "    print(f, \"| score:\", s)\n"
      ],
      "metadata": {
        "colab": {
          "base_uri": "https://localhost:8080/"
        },
        "id": "ka05pMgU0bIV",
        "outputId": "32819cb4-31f1-4b8a-a36e-07431d62baba"
      },
      "execution_count": null,
      "outputs": [
        {
          "output_type": "stream",
          "name": "stdout",
          "text": [
            "Top-3 CF recommendations for user 0:\n",
            "item_1 | score: 0.9236067977499787\n",
            "item_0 | score: 0.9236067977499784\n",
            "item_3 | score: 0.20000000000000012\n"
          ]
        }
      ]
    },
    {
      "cell_type": "markdown",
      "source": [
        "Normalize *scores*"
      ],
      "metadata": {
        "id": "j8axKnpc0duK"
      }
    },
    {
      "cell_type": "code",
      "source": [
        "def normalize_scores(scores):\n",
        "    scores = np.array(scores, dtype=np.float32)\n",
        "    min_s, max_s = scores.min(), scores.max()\n",
        "    if max_s - min_s == 0:\n",
        "        return np.zeros_like(scores)\n",
        "    return (scores - min_s) / (max_s - min_s)\n"
      ],
      "metadata": {
        "id": "mcFk8XVH0fTO"
      },
      "execution_count": null,
      "outputs": []
    },
    {
      "cell_type": "markdown",
      "source": [
        "Hybrid recommendation function\n"
      ],
      "metadata": {
        "id": "n9lpwWTH0iRK"
      }
    },
    {
      "cell_type": "code",
      "source": [
        "def recommend_hybrid(user_id, hybrid_vec, content_vectors, all_filenames,\n",
        "                     interaction_pred_scores, top_k=5, alpha=0.6,\n",
        "                     user_size=None, user_occasion=None, item_metadata=None):\n",
        "    \"\"\"\n",
        "    Combines content-based and collaborative filtering recommendations\n",
        "    \"\"\"\n",
        "    # --- Content-based scores ---\n",
        "    sims = cosine_similarity(hybrid_vec.reshape(1,-1), content_vectors)[0]\n",
        "\n",
        "    # Apply business rules overlay\n",
        "    content_scores = []\n",
        "    for i, fname in enumerate(all_filenames):\n",
        "        if item_metadata:\n",
        "            meta = item_metadata.get(fname, {})\n",
        "            if user_size and meta.get('size') != user_size:\n",
        "                content_scores.append(0)\n",
        "                continue\n",
        "            if user_occasion and meta.get('occasion') != user_occasion:\n",
        "                content_scores.append(0)\n",
        "                continue\n",
        "        content_scores.append(sims[i])\n",
        "\n",
        "    # Normalize content and CF scores\n",
        "    content_scores = normalize_scores(content_scores)\n",
        "    cf_scores = normalize_scores(interaction_pred_scores[user_id])\n",
        "\n",
        "    # Weighted hybrid\n",
        "    hybrid_scores = alpha * content_scores + (1-alpha) * cf_scores\n",
        "\n",
        "    # Top-K\n",
        "    top_indices = np.argsort(-hybrid_scores)[:top_k]\n",
        "    top_files = [all_filenames[i] for i in top_indices]\n",
        "    top_scores = hybrid_scores[top_indices]\n",
        "\n",
        "    return list(zip(top_files, top_scores))\n"
      ],
      "metadata": {
        "id": "sr4oas0a0jCk"
      },
      "execution_count": null,
      "outputs": []
    },
    {
      "cell_type": "markdown",
      "source": [
        "Test hybrid recommendation\n"
      ],
      "metadata": {
        "id": "7i0pw5r60llP"
      }
    },
    {
      "cell_type": "code",
      "source": [
        "# Example: user 0\n",
        "size = 'M'\n",
        "occasion = 'party'\n",
        "preferred_colors = ['red','black','blue']\n",
        "user_pref_vec = encode_user_preferences(size, occasion, preferred_colors)\n",
        "\n",
        "# Suppose user liked first 2 items\n",
        "liked_item_vecs = all_vectors[:2]\n",
        "hybrid_vec_user = build_hybrid_user_vector(user_pref_vec, liked_item_vecs, alpha=0.6)\n",
        "\n",
        "# Dummy item metadata for business rules\n",
        "item_metadata = {}\n",
        "for f in all_filenames:\n",
        "    item_metadata[f] = {'size': np.random.choice(['S','M','L']),\n",
        "                        'occasion': np.random.choice(['casual','party','formal'])}\n",
        "\n",
        "# Get top-5 hybrid recommendations\n",
        "top_hybrid = recommend_hybrid(user_id=0, hybrid_vec=hybrid_vec_user,\n",
        "                              content_vectors=all_vectors, all_filenames=all_filenames,\n",
        "                              interaction_pred_scores=predicted_scores,\n",
        "                              top_k=5, alpha=0.6,\n",
        "                              user_size=size, user_occasion=occasion,\n",
        "                              item_metadata=item_metadata)\n",
        "\n",
        "print(\"Top-5 Hybrid Recommendations for user 0:\")\n",
        "for f, score in top_hybrid:\n",
        "    print(f, \"| hybrid score:\", score)\n"
      ],
      "metadata": {
        "colab": {
          "base_uri": "https://localhost:8080/"
        },
        "id": "0KkFUMnZ0psD",
        "outputId": "1c2ba281-b385-41f6-a39e-9e3e21ba3ed9"
      },
      "execution_count": null,
      "outputs": [
        {
          "output_type": "stream",
          "name": "stdout",
          "text": [
            "Top-5 Hybrid Recommendations for user 0:\n",
            "item_0 | hybrid score: 0.4\n",
            "item_1 | hybrid score: 0.4\n",
            "item_2 | hybrid score: 0.1527864\n",
            "item_3 | hybrid score: 0.1527864\n",
            "item_4 | hybrid score: 0.0\n"
          ]
        }
      ]
    },
    {
      "cell_type": "markdown",
      "source": [
        "Prepare “ground truth” data\n"
      ],
      "metadata": {
        "id": "JZUtLLOb0svs"
      }
    },
    {
      "cell_type": "code",
      "source": [
        "# Example: simulate ground truth liked items for users\n",
        "ground_truth = {\n",
        "    0: [0, 2],   # user 0 likes item 0 and 2\n",
        "    1: [1, 3],\n",
        "    2: [0, 1, 3],\n",
        "    3: [2, 4],\n",
        "    4: [3, 4]\n",
        "}\n"
      ],
      "metadata": {
        "id": "wMAn_Xfe0tV1"
      },
      "execution_count": null,
      "outputs": []
    },
    {
      "cell_type": "markdown",
      "source": [
        "Precision@K"
      ],
      "metadata": {
        "id": "Yk8iGbJ70yHs"
      }
    },
    {
      "cell_type": "code",
      "source": [
        "def precision_at_k(recommended, ground_truth_items, k=5):\n",
        "    recommended = recommended[:k]\n",
        "    return len(set(recommended) & set(ground_truth_items)) / k\n",
        "# Suppose we have hybrid recommendations (item indices) for user 0\n",
        "recommended_items_indices = [int(f.split(\"_\")[1]) for f, s in top_hybrid]  # convert filenames to indices\n",
        "\n",
        "precision = precision_at_k(recommended_items_indices, ground_truth[0], k=5)\n",
        "print(f\"Precision@5 for user 0: {precision:.2f}\")\n"
      ],
      "metadata": {
        "colab": {
          "base_uri": "https://localhost:8080/"
        },
        "id": "MGqc6J-Y00HO",
        "outputId": "616ab9c9-1809-4c34-93a9-7eb56b7384de"
      },
      "execution_count": null,
      "outputs": [
        {
          "output_type": "stream",
          "name": "stdout",
          "text": [
            "Precision@5 for user 0: 0.40\n"
          ]
        }
      ]
    },
    {
      "cell_type": "markdown",
      "source": [
        "Recall@K"
      ],
      "metadata": {
        "id": "IvoNNaND04TE"
      }
    },
    {
      "cell_type": "code",
      "source": [
        "def recall_at_k(recommended, ground_truth_items, k=5):\n",
        "    recommended = recommended[:k]\n",
        "    return len(set(recommended) & set(ground_truth_items)) / len(ground_truth_items)\n",
        "\n",
        "recall = recall_at_k(recommended_items_indices, ground_truth[0], k=5)\n",
        "print(f\"Recall@5 for user 0: {recall:.2f}\")\n"
      ],
      "metadata": {
        "colab": {
          "base_uri": "https://localhost:8080/"
        },
        "id": "eq68BuxY05-w",
        "outputId": "22ed3f36-d390-457d-ec20-2ce251664239"
      },
      "execution_count": null,
      "outputs": [
        {
          "output_type": "stream",
          "name": "stdout",
          "text": [
            "Recall@5 for user 0: 1.00\n"
          ]
        }
      ]
    },
    {
      "cell_type": "markdown",
      "source": [
        "NDCG@K (Normalized Discounted Cumulative Gain)"
      ],
      "metadata": {
        "id": "r33MttIB08fz"
      }
    },
    {
      "cell_type": "code",
      "source": [
        "import numpy as np\n",
        "\n",
        "def ndcg_at_k(recommended, ground_truth_items, k=5):\n",
        "    recommended = recommended[:k]\n",
        "    dcg = 0\n",
        "    for i, item in enumerate(recommended):\n",
        "        if item in ground_truth_items:\n",
        "            dcg += 1 / np.log2(i + 2)  # +2 because index starts at 0\n",
        "    # Ideal DCG\n",
        "    idcg = sum(1 / np.log2(i + 2) for i in range(min(len(ground_truth_items), k)))\n",
        "    return dcg / idcg if idcg > 0 else 0\n",
        "\n",
        "ndcg = ndcg_at_k(recommended_items_indices, ground_truth[0], k=5)\n",
        "print(f\"NDCG@5 for user 0: {ndcg:.2f}\")\n"
      ],
      "metadata": {
        "colab": {
          "base_uri": "https://localhost:8080/"
        },
        "id": "erfrQoCJ0-xB",
        "outputId": "31930d75-0772-4deb-b535-6de3f0d26db3"
      },
      "execution_count": null,
      "outputs": [
        {
          "output_type": "stream",
          "name": "stdout",
          "text": [
            "NDCG@5 for user 0: 0.92\n"
          ]
        }
      ]
    },
    {
      "cell_type": "markdown",
      "source": [
        "Evaluate for all *users*"
      ],
      "metadata": {
        "id": "Fe19St3h0_eW"
      }
    },
    {
      "cell_type": "code",
      "source": [
        "k = 5\n",
        "precisions, recalls, ndcgs = [], [], []\n",
        "\n",
        "for user_id in range(num_users):\n",
        "    recommended_indices = [int(f.split(\"_\")[1]) for f, s in top_hybrid]  # reuse hybrid recommendation\n",
        "    precisions.append(precision_at_k(recommended_indices, ground_truth[user_id], k))\n",
        "    recalls.append(recall_at_k(recommended_indices, ground_truth[user_id], k))\n",
        "    ndcgs.append(ndcg_at_k(recommended_indices, ground_truth[user_id], k))\n",
        "\n",
        "print(f\"Average Precision@{k}: {np.mean(precisions):.2f}\")\n",
        "print(f\"Average Recall@{k}: {np.mean(recalls):.2f}\")\n",
        "print(f\"Average NDCG@{k}: {np.mean(ndcgs):.2f}\")\n"
      ],
      "metadata": {
        "colab": {
          "base_uri": "https://localhost:8080/"
        },
        "id": "gSs7StoX1DKw",
        "outputId": "607930d1-9a55-4eb8-97d0-7f4872650e83"
      },
      "execution_count": null,
      "outputs": [
        {
          "output_type": "stream",
          "name": "stdout",
          "text": [
            "Average Precision@5: 0.44\n",
            "Average Recall@5: 1.00\n",
            "Average NDCG@5: 0.72\n"
          ]
        }
      ]
    }
  ]
}